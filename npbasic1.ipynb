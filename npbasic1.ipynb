{
 "cells": [
  {
   "cell_type": "code",
   "execution_count": 1,
   "metadata": {},
   "outputs": [
    {
     "name": "stdout",
     "output_type": "stream",
     "text": [
      "[4 5 6 7]\n"
     ]
    }
   ],
   "source": [
    "import numpy as np\n",
    "var1 = np.array([1,2,3,4])\n",
    "varresult = var1 + 3\n",
    "print(varresult)"
   ]
  },
  {
   "cell_type": "code",
   "execution_count": 2,
   "metadata": {},
   "outputs": [
    {
     "name": "stdout",
     "output_type": "stream",
     "text": [
      "[2 4 6 8]\n"
     ]
    }
   ],
   "source": [
    "var1 = np.array([1,2,3,4])\n",
    "var2 = np.array([1,2,3,4])\n",
    "varresult = var1 + var2\n",
    "print(varresult)"
   ]
  },
  {
   "cell_type": "code",
   "execution_count": 3,
   "metadata": {},
   "outputs": [
    {
     "name": "stdout",
     "output_type": "stream",
     "text": [
      "[-1 -1 -1 -1]\n",
      "[ 2  6 12 20]\n",
      "[0.5        0.66666667 0.75       0.8       ]\n",
      "[1 2 3 4]\n",
      "[   1    8   81 1024]\n",
      "[3 5 7 9]\n"
     ]
    }
   ],
   "source": [
    "var1 = np.array([1,2,3,4])\n",
    "var2 = np.array([2,3,4,5])\n",
    "varresult1 = var1 - var2\n",
    "print(varresult1)\n",
    "varresult2 = var1 * var2\n",
    "print(varresult2)\n",
    "varresult3 = var1 / var2\n",
    "print(varresult3)\n",
    "varresult4 = var1 % var2\n",
    "print(varresult4)\n",
    "varresult5 = var1 ** var2\n",
    "print(varresult5)\n",
    "varresult6 = var1 + var2\n",
    "print(varresult6)"
   ]
  },
  {
   "cell_type": "code",
   "execution_count": 4,
   "metadata": {},
   "outputs": [
    {
     "name": "stdout",
     "output_type": "stream",
     "text": [
      "[-1 -1 -1 -1]\n",
      "[ 2  6 12 20]\n",
      "[0.5        0.66666667 0.75       0.8       ]\n",
      "[1 2 3 4]\n",
      "[   1    8   81 1024]\n",
      "[4 5 6 7]\n",
      "[1 0 0 0]\n"
     ]
    }
   ],
   "source": [
    "var1 = np.array([1,2,3,4])\n",
    "var2 = np.array([2,3,4,5])\n",
    "varresult1 = np.subtract(var1,var2)\n",
    "print(varresult1)\n",
    "varresult2 = np.multiply(var1,var2)\n",
    "print(varresult2)\n",
    "varresult3 = np.divide(var1,var2)\n",
    "print(varresult3)\n",
    "varresult4 = np.mod(var1,var2)\n",
    "print(varresult4)\n",
    "varresult5 = np.power(var1,var2)\n",
    "print(varresult5)\n",
    "varresult6 = np.add(var1,3)\n",
    "print(varresult6)\n",
    "varresult7 = np.reciprocal(var1)\n",
    "print(varresult7)"
   ]
  },
  {
   "cell_type": "code",
   "execution_count": 5,
   "metadata": {},
   "outputs": [
    {
     "name": "stdout",
     "output_type": "stream",
     "text": [
      "[[1 2 3 4]\n",
      " [1 2 3 4]]\n",
      "\n",
      "[[1 2 3 4]\n",
      " [1 2 3 4]]\n",
      "\n",
      "[[2 4 6 8]\n",
      " [2 4 6 8]]\n"
     ]
    }
   ],
   "source": [
    "var21 = np.array([[1,2,3,4],[1,2,3,4]])\n",
    "var22 = np.array([[1,2,3,4],[1,2,3,4]])\n",
    "print(var21)\n",
    "print()\n",
    "print(var22)\n",
    "print()\n",
    "varadd = var21 + var22\n",
    "print(varadd)                "
   ]
  },
  {
   "cell_type": "code",
   "execution_count": 6,
   "metadata": {},
   "outputs": [
    {
     "name": "stdout",
     "output_type": "stream",
     "text": [
      "min  1\n",
      "max  4\n",
      "min position  0\n",
      "max position  3\n",
      "sqrt  [1.         1.41421356 1.73205081 2.         1.73205081 1.41421356]\n",
      "sin  [ 0.84147098  0.90929743  0.14112001 -0.7568025   0.14112001  0.90929743]\n",
      "cos  [ 0.54030231 -0.41614684 -0.9899925  -0.65364362 -0.9899925  -0.41614684]\n",
      "cumsum  [ 1  3  6 10 13 15]\n"
     ]
    }
   ],
   "source": [
    "var = np.array([1,2,3,4,3,2])\n",
    "print(\"min \",np.min(var))\n",
    "print(\"max \",np.max(var))\n",
    "print(\"min position \",np.argmin(var))\n",
    "print(\"max position \",np.argmax(var))\n",
    "print(\"sqrt \",np.sqrt(var))\n",
    "print(\"sin \",np.sin(var))\n",
    "print(\"cos \",np.cos(var))\n",
    "print(\"cumsum \",np.cumsum(var))\n"
   ]
  },
  {
   "cell_type": "code",
   "execution_count": 7,
   "metadata": {},
   "outputs": [
    {
     "name": "stdout",
     "output_type": "stream",
     "text": [
      "[2 1 2]\n",
      "[1 2]\n"
     ]
    }
   ],
   "source": [
    "var = np.array([[2,1,6],[3,4,2]])\n",
    "print(np.min(var,axis=0))\n",
    "print(np.min(var,axis=1))"
   ]
  },
  {
   "cell_type": "code",
   "execution_count": 8,
   "metadata": {},
   "outputs": [
    {
     "name": "stdout",
     "output_type": "stream",
     "text": [
      "(2, 3)\n",
      "\n",
      "[[[[[1 2 3 4]]]]]\n",
      "(1, 1, 1, 1, 4)\n"
     ]
    }
   ],
   "source": [
    "var = np.array([[1,2,3],[1,2,3]])\n",
    "var1 = np.array([1,2,3,4],ndmin=5)\n",
    "print(var.shape)\n",
    "print()\n",
    "print(var1)\n",
    "print(var1.shape)"
   ]
  },
  {
   "cell_type": "code",
   "execution_count": 9,
   "metadata": {},
   "outputs": [
    {
     "name": "stdout",
     "output_type": "stream",
     "text": [
      "[1 2 3 4 5 6]\n",
      "1\n",
      "\n",
      "[[1 2]\n",
      " [3 4]\n",
      " [5 6]]\n",
      "2\n"
     ]
    }
   ],
   "source": [
    "var1 = np.array([1,2,3,4,5,6])\n",
    "print(var1)\n",
    "print(var1.ndim)\n",
    "print()\n",
    "x = var1.reshape(3,2)\n",
    "print(x)\n",
    "print(x.ndim)"
   ]
  },
  {
   "cell_type": "code",
   "execution_count": 10,
   "metadata": {},
   "outputs": [
    {
     "name": "stdout",
     "output_type": "stream",
     "text": [
      "[ 1  2  3  4  5  6  7  8  9 10 11 12]\n",
      "1\n",
      "\n",
      "[[[ 1  2]\n",
      "  [ 3  4]\n",
      "  [ 5  6]]\n",
      "\n",
      " [[ 7  8]\n",
      "  [ 9 10]\n",
      "  [11 12]]]\n",
      "3\n",
      "\n",
      "[ 1  2  3  4  5  6  7  8  9 10 11 12]\n",
      "1\n"
     ]
    }
   ],
   "source": [
    "var1 = np.array([1,2,3,4,5,6,7,8,9,10,11,12])\n",
    "print(var1)\n",
    "print(var1.ndim)\n",
    "print()\n",
    "x = var1.reshape(2,3,2)\n",
    "print(x)\n",
    "print(x.ndim)\n",
    "print()\n",
    "x1 = var1.reshape(-1)\n",
    "print(x1)\n",
    "print(x1.ndim)"
   ]
  },
  {
   "cell_type": "code",
   "execution_count": 11,
   "metadata": {},
   "outputs": [
    {
     "name": "stdout",
     "output_type": "stream",
     "text": [
      "3\n",
      "3\n",
      "\n",
      "[[1 2 3]\n",
      " [4 5 6]]\n",
      "2 6\n",
      "\n",
      "[[[1 2 3]\n",
      "  [4 5 6]]]\n",
      "2 5\n"
     ]
    }
   ],
   "source": [
    "var1 = np.array([1,2,3,4])\n",
    "print(var1[2])\n",
    "print(var1[-2])\n",
    "print()\n",
    "var2 = np.array([[1,2,3],[4,5,6]])\n",
    "print(var2)\n",
    "print(var2[0,1],var2[1,2])\n",
    "print()\n",
    "var3 = np.array([[[1,2,3],[4,5,6]]])\n",
    "print(var3)\n",
    "print(var3[0,0,1],var3[0,1,1])"
   ]
  },
  {
   "cell_type": "code",
   "execution_count": 12,
   "metadata": {},
   "outputs": [
    {
     "name": "stdout",
     "output_type": "stream",
     "text": [
      "printing 8 to 11 :  [ 8  9 10 11]\n",
      "printing 8 to end :  [ 8  9 10 11 12]\n",
      "printing start to 11 :  [ 6  7  8  9 10 11]\n",
      "printing numbers in 2 interval :  [ 6  8 10 12]\n"
     ]
    }
   ],
   "source": [
    "var = np.array([6,7,8,9,10,11,12])\n",
    "print(\"printing 8 to 11 : \",var[2:6])\n",
    "print(\"printing 8 to end : \",var[2:])\n",
    "print(\"printing start to 11 : \",var[:6])\n",
    "print(\"printing numbers in 2 interval : \",var[::2])"
   ]
  },
  {
   "cell_type": "code",
   "execution_count": 13,
   "metadata": {},
   "outputs": [
    {
     "name": "stdout",
     "output_type": "stream",
     "text": [
      "[2 3 4 5] [ 9 10 11]\n"
     ]
    }
   ],
   "source": [
    "var2 = np.array([[1,2,3,4,5,6],[7,8,9,10,11,12]])\n",
    "print(var2[0,1:5],var2[1,2:5])"
   ]
  },
  {
   "cell_type": "code",
   "execution_count": 14,
   "metadata": {},
   "outputs": [
    {
     "name": "stdout",
     "output_type": "stream",
     "text": [
      "1\n",
      "2\n",
      "3\n",
      "4\n",
      "5\n",
      "\n",
      "[1 2 3 4]\n",
      "[5 6 7 8]\n",
      "\n",
      "1\n",
      "2\n",
      "3\n",
      "4\n",
      "5\n",
      "6\n",
      "7\n",
      "8\n"
     ]
    }
   ],
   "source": [
    "var1 = np.array([1,2,3,4,5])\n",
    "for i in var1:\n",
    "    print(i)\n",
    "print()\n",
    "\n",
    "var2 = np.array([[1,2,3,4],[5,6,7,8]])\n",
    "for j in var2:\n",
    "    print(j)\n",
    "print()\n",
    "\n",
    "for k in var2:\n",
    "    for l in k:\n",
    "        print(l)"
   ]
  },
  {
   "cell_type": "code",
   "execution_count": 15,
   "metadata": {},
   "outputs": [
    {
     "name": "stdout",
     "output_type": "stream",
     "text": [
      "1\n",
      "2\n",
      "3\n",
      "4\n",
      "5\n",
      "6\n",
      "7\n",
      "8\n",
      "9\n"
     ]
    }
   ],
   "source": [
    "var3 = np.array([[[1,2,3],[4,5,6],[7,8,9]]])\n",
    "for i in np.nditer(var3):\n",
    "    print(i)"
   ]
  },
  {
   "cell_type": "code",
   "execution_count": 28,
   "metadata": {},
   "outputs": [
    {
     "name": "stdout",
     "output_type": "stream",
     "text": [
      "(0, 0, 0) 1\n",
      "(0, 0, 1) 2\n",
      "(0, 0, 2) 3\n",
      "(0, 1, 0) 4\n",
      "(0, 1, 1) 5\n",
      "(0, 1, 2) 6\n",
      "(0, 2, 0) 7\n",
      "(0, 2, 1) 8\n",
      "(0, 2, 2) 9\n"
     ]
    }
   ],
   "source": [
    "var3 = np.array([[[1,2,3],[4,5,6],[7,8,9]]])\n",
    "for i,d in np.ndenumerate(var3):\n",
    "    print(i,d)"
   ]
  },
  {
   "cell_type": "code",
   "execution_count": 17,
   "metadata": {},
   "outputs": [
    {
     "name": "stdout",
     "output_type": "stream",
     "text": [
      "var :  [ 1 40  3  4]\n",
      "copy :  [1 2 3 4]\n"
     ]
    }
   ],
   "source": [
    "var = np.array([1,2,3,4])\n",
    "co = var.copy()\n",
    "var[1] = 40\n",
    "print(\"var : \",var)\n",
    "print(\"copy : \",co)"
   ]
  },
  {
   "cell_type": "code",
   "execution_count": 18,
   "metadata": {},
   "outputs": [
    {
     "name": "stdout",
     "output_type": "stream",
     "text": [
      "var :  [ 1 40  3  4]\n",
      "view :  [ 1 40  3  4]\n"
     ]
    }
   ],
   "source": [
    "var = np.array([1,2,3,4])\n",
    "vi = var.view()\n",
    "var[1] = 40\n",
    "print(\"var : \",var)\n",
    "print(\"view : \",vi)"
   ]
  },
  {
   "cell_type": "code",
   "execution_count": 19,
   "metadata": {},
   "outputs": [
    {
     "name": "stdout",
     "output_type": "stream",
     "text": [
      "[1 2 3 4 9 8 7 6]\n"
     ]
    }
   ],
   "source": [
    "a = np.array([1,2,3,4])\n",
    "b = np.array([9,8,7,6])\n",
    "arr1 = np.concatenate((a,b))\n",
    "print(arr1)"
   ]
  },
  {
   "cell_type": "code",
   "execution_count": 20,
   "metadata": {},
   "outputs": [
    {
     "name": "stdout",
     "output_type": "stream",
     "text": [
      "[[1 2]\n",
      " [3 4]\n",
      " [9 8]\n",
      " [7 6]]\n",
      "\n",
      "[[1 2 9 8]\n",
      " [3 4 7 6]]\n"
     ]
    }
   ],
   "source": [
    "a = np.array([[1,2],[3,4]])\n",
    "b = np.array([[9,8],[7,6]])\n",
    "arr1 = np.concatenate((a,b),axis=0)\n",
    "print(arr1)\n",
    "print()\n",
    "arr2 = np.concatenate((a,b),axis=1)\n",
    "print(arr2)"
   ]
  },
  {
   "cell_type": "code",
   "execution_count": 21,
   "metadata": {},
   "outputs": [
    {
     "name": "stdout",
     "output_type": "stream",
     "text": [
      "[[1 2 3 4]\n",
      " [9 8 7 6]]\n",
      "\n",
      "[1 2 3 4 9 8 7 6]\n",
      "\n",
      "[[1 2 3 4]\n",
      " [9 8 7 6]]\n",
      "\n",
      "[[[1 9]\n",
      "  [2 8]\n",
      "  [3 7]\n",
      "  [4 6]]]\n"
     ]
    }
   ],
   "source": [
    "a = np.array([1,2,3,4])\n",
    "b = np.array([9,8,7,6])\n",
    "arr1 = np.stack((a,b))\n",
    "print(arr1)\n",
    "print()\n",
    "arr2 = np.hstack((a,b)) #row\n",
    "print(arr2)\n",
    "print()\n",
    "arr3 = np.vstack((a,b)) #column\n",
    "print(arr3)\n",
    "print()\n",
    "arr4 = np.dstack((a,b)) #height\n",
    "print(arr4)\n"
   ]
  },
  {
   "cell_type": "code",
   "execution_count": 22,
   "metadata": {},
   "outputs": [
    {
     "name": "stdout",
     "output_type": "stream",
     "text": [
      "[array([1, 2]), array([3, 4]), array([5]), array([6])]\n",
      "\n",
      "[array([[1, 2]]), array([[3, 4]]), array([[5, 6]]), array([], shape=(0, 2), dtype=int32)]\n",
      "\n",
      "[array([[1],\n",
      "       [3],\n",
      "       [5]]), array([[2],\n",
      "       [4],\n",
      "       [6]]), array([], shape=(3, 0), dtype=int32), array([], shape=(3, 0), dtype=int32)]\n"
     ]
    }
   ],
   "source": [
    "a = np.array([1,2,3,4,5,6])\n",
    "arr = np.array_split(a,4)\n",
    "print(arr)\n",
    "print()\n",
    "b = np.array([[1,2],[3,4],[5,6]])\n",
    "arr1 = np.array_split(b,4)\n",
    "arr2 = np.array_split(b,4,axis=1)\n",
    "print(arr1)\n",
    "print()\n",
    "print(arr2)"
   ]
  },
  {
   "cell_type": "code",
   "execution_count": 23,
   "metadata": {},
   "outputs": [
    {
     "name": "stdout",
     "output_type": "stream",
     "text": [
      "(array([1, 7], dtype=int64),)\n",
      "\n",
      "(array([1, 4, 7], dtype=int64),)\n"
     ]
    }
   ],
   "source": [
    "a = np.array([1,2,5,3,4,7,5,2,3])\n",
    "x = np.where(a==2)\n",
    "print(x)\n",
    "print()\n",
    "y = np.where(a%2==0)\n",
    "print(y)"
   ]
  },
  {
   "cell_type": "code",
   "execution_count": 24,
   "metadata": {},
   "outputs": [
    {
     "name": "stdout",
     "output_type": "stream",
     "text": [
      "4\n"
     ]
    }
   ],
   "source": [
    "a = np.array([1,2,3,4,6,7,8])\n",
    "x = np.searchsorted(a,5) #gives the index where 5 gets fiited\n",
    "print(x)"
   ]
  },
  {
   "cell_type": "code",
   "execution_count": 25,
   "metadata": {},
   "outputs": [
    {
     "name": "stdout",
     "output_type": "stream",
     "text": [
      "[1 2 3 4 5 6 7 8 9]\n",
      "\n",
      "['b' 'i' 's' 'x']\n"
     ]
    }
   ],
   "source": [
    "a = np.array([6,9,2,5,7,8,1,3,4])\n",
    "print(np.sort(a))\n",
    "print()\n",
    "b = np.array([\"s\",\"i\",\"x\",\"b\"])\n",
    "print(np.sort(b))"
   ]
  },
  {
   "cell_type": "code",
   "execution_count": 26,
   "metadata": {},
   "outputs": [
    {
     "name": "stdout",
     "output_type": "stream",
     "text": [
      "['s' 'x']\n"
     ]
    }
   ],
   "source": [
    "a = np.array([\"s\",\"i\",\"x\",\"b\"])\n",
    "f = [True,False,True,False]\n",
    "arr = a[f]\n",
    "print(arr)"
   ]
  }
 ],
 "metadata": {
  "kernelspec": {
   "display_name": "Python 3",
   "language": "python",
   "name": "python3"
  },
  "language_info": {
   "codemirror_mode": {
    "name": "ipython",
    "version": 3
   },
   "file_extension": ".py",
   "mimetype": "text/x-python",
   "name": "python",
   "nbconvert_exporter": "python",
   "pygments_lexer": "ipython3",
   "version": "3.11.3"
  }
 },
 "nbformat": 4,
 "nbformat_minor": 2
}
