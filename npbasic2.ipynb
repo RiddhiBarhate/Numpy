{
 "cells": [
  {
   "cell_type": "markdown",
   "metadata": {},
   "source": []
  },
  {
   "cell_type": "code",
   "execution_count": 2,
   "metadata": {},
   "outputs": [
    {
     "name": "stdout",
     "output_type": "stream",
     "text": [
      "[3 4 1 2 5]\n"
     ]
    }
   ],
   "source": [
    "import numpy as np\n",
    "var = np.array([1,2,3,4,5])\n",
    "np.random.shuffle(var)\n",
    "print(var)"
   ]
  },
  {
   "cell_type": "code",
   "execution_count": 3,
   "metadata": {},
   "outputs": [
    {
     "name": "stdout",
     "output_type": "stream",
     "text": [
      "(array([1, 2, 3, 4, 5]), array([0, 1, 2, 3, 6], dtype=int64), array([1, 2, 2, 1, 1], dtype=int64))\n"
     ]
    }
   ],
   "source": [
    "var = np.array([1,2,3,4,2,3,5])\n",
    "x = np.unique(var, return_index=True, return_counts=True)\n",
    "print(x)"
   ]
  },
  {
   "cell_type": "code",
   "execution_count": 4,
   "metadata": {},
   "outputs": [
    {
     "name": "stdout",
     "output_type": "stream",
     "text": [
      "[[1 2 3]\n",
      " [4 5 6]]\n",
      "\n",
      "Flatten :  [1 2 3 4 5 6]\n",
      "Ravel :  [1 4 2 5 3 6]\n"
     ]
    }
   ],
   "source": [
    "var = np.array([1,2,3,4,5,6])\n",
    "x = np.resize(var,(2,3))\n",
    "print(x)\n",
    "print()\n",
    "print(\"Flatten : \",x.flatten()) #converts 2D to 1D\n",
    "print(\"Ravel : \",x.ravel(order=\"F\")) #converts 2D to 1D"
   ]
  },
  {
   "cell_type": "code",
   "execution_count": 5,
   "metadata": {},
   "outputs": [
    {
     "name": "stdout",
     "output_type": "stream",
     "text": [
      "[1 2 3 4 5]\n",
      "[ 1  2 40  3  4  5]\n",
      "[ 1  2 40  3  4 40  5]\n",
      "[ 1  2 40  3  4 10  5]\n"
     ]
    }
   ],
   "source": [
    "var = np.array([1,2,3,4,5])\n",
    "print(var)\n",
    "v = np.insert(var,2,40)\n",
    "print(v)\n",
    "x = np.insert(var,(2,4),40)\n",
    "print(x)\n",
    "y = np.insert(var,(2,4),[40,10])\n",
    "print(y)"
   ]
  },
  {
   "cell_type": "code",
   "execution_count": 6,
   "metadata": {},
   "outputs": [
    {
     "name": "stdout",
     "output_type": "stream",
     "text": [
      "[[1 2 3]\n",
      " [4 5 6]]\n",
      "\n",
      "[[ 1  2  3]\n",
      " [ 4  5  6]\n",
      " [40 40 40]]\n",
      "\n",
      "[[ 1  2 40  3]\n",
      " [ 4  5 40  6]]\n"
     ]
    }
   ],
   "source": [
    "var = np.array([[1,2,3],[4,5,6]])\n",
    "print(var)\n",
    "print()\n",
    "v1 = np.insert(var,2,40,axis=0)\n",
    "print(v1)\n",
    "print()\n",
    "v2 = np.insert(var,2,40,axis=1)\n",
    "print(v2)"
   ]
  },
  {
   "cell_type": "code",
   "execution_count": 7,
   "metadata": {},
   "outputs": [
    {
     "name": "stdout",
     "output_type": "stream",
     "text": [
      "[1 2 3 4 5]\n",
      "[1 2 3 5]\n"
     ]
    }
   ],
   "source": [
    "var = np.array([1,2,3,4,5])\n",
    "print(var)\n",
    "d = np.delete(var,3)\n",
    "print(d)"
   ]
  },
  {
   "cell_type": "code",
   "execution_count": 8,
   "metadata": {},
   "outputs": [
    {
     "name": "stdout",
     "output_type": "stream",
     "text": [
      "[[1 2 3 4 5]]\n",
      "<class 'numpy.matrix'>\n",
      "[1 2 3 4 5]\n",
      "<class 'numpy.ndarray'>\n"
     ]
    }
   ],
   "source": [
    "var1 = np.matrix([1,2,3,4,5])\n",
    "print(var1)\n",
    "print(type(var1))\n",
    "var2 = np.array([1,2,3,4,5])\n",
    "print(var2)\n",
    "print(type(var2))\n"
   ]
  },
  {
   "cell_type": "code",
   "execution_count": 9,
   "metadata": {},
   "outputs": [
    {
     "name": "stdout",
     "output_type": "stream",
     "text": [
      "[[1 2]\n",
      " [3 4]]\n",
      "[[ 1  2 40  3]\n",
      " [ 4  5 40  6]]\n",
      "Multipication is:  [[ 7 10]\n",
      " [15 22]]\n",
      "<class 'numpy.matrix'>\n",
      "[[1 2]\n",
      " [3 4]]\n",
      "[[1 2]\n",
      " [3 4]]\n",
      "Multipication is:  [[ 1  4]\n",
      " [ 9 16]]\n",
      "<class 'numpy.ndarray'>\n"
     ]
    }
   ],
   "source": [
    "var1 = np.matrix([[1,2],[3,4]])\n",
    "v1 = np.matrix([[1,2],[3,4]])\n",
    "print(var1)\n",
    "print(v2)\n",
    "print(\"Multipication is: \",var1*v1)\n",
    "print(type(var1))\n",
    "var2 = np.array([[1,2],[3,4]])\n",
    "v2 = np.array([[1,2],[3,4]])\n",
    "print(var2)\n",
    "print(v2)\n",
    "print(\"Multipication is: \",var2*v2)\n",
    "print(type(var2))"
   ]
  },
  {
   "cell_type": "code",
   "execution_count": 10,
   "metadata": {},
   "outputs": [
    {
     "name": "stdout",
     "output_type": "stream",
     "text": [
      "[[1 2 3]\n",
      " [4 5 6]]\n",
      "Transpose:  [[1 4]\n",
      " [2 5]\n",
      " [3 6]]\n",
      "\n",
      "Swapaxes:  [[1 4]\n",
      " [2 5]\n",
      " [3 6]]\n",
      "\n",
      "[[1 2]\n",
      " [3 4]]\n",
      "\n",
      "Inverse:  [[-2.   1. ]\n",
      " [ 1.5 -0.5]]\n"
     ]
    }
   ],
   "source": [
    "var = np.matrix([[1,2,3],[4,5,6]])\n",
    "print(var)\n",
    "print(\"Transpose: \",np.transpose(var))\n",
    "print()\n",
    "print(\"Swapaxes: \",np.swapaxes(var,0,1)) #converting axis 0 to 1\n",
    "print()\n",
    "var1 = np.array([[1,2],[3,4]])\n",
    "print(var1)\n",
    "print()\n",
    "print(\"Inverse: \",np.linalg.inv(var1))"
   ]
  },
  {
   "cell_type": "code",
   "execution_count": 11,
   "metadata": {},
   "outputs": [
    {
     "name": "stdout",
     "output_type": "stream",
     "text": [
      "[[1 2]\n",
      " [3 4]]\n",
      "\n",
      "[[ 7 10]\n",
      " [15 22]]\n",
      "\n",
      "[[1 0]\n",
      " [0 1]]\n",
      "\n",
      "[[ 5.5  -2.5 ]\n",
      " [-3.75  1.75]]\n"
     ]
    }
   ],
   "source": [
    "var1 = np.array([[1,2],[3,4]])\n",
    "print(var1)\n",
    "print()\n",
    "print(np.linalg.matrix_power(var1,2))\n",
    "print()\n",
    "print(np.linalg.matrix_power(var1,0)) #gives identity matrix\n",
    "print()\n",
    "print(np.linalg.matrix_power(var1,-2)) #inverse * power"
   ]
  },
  {
   "cell_type": "code",
   "execution_count": 12,
   "metadata": {},
   "outputs": [
    {
     "name": "stdout",
     "output_type": "stream",
     "text": [
      "[[1 2]\n",
      " [3 4]]\n",
      "\n",
      "Determinate:  -2.0000000000000004\n"
     ]
    }
   ],
   "source": [
    "var1 = np.array([[1,2],[3,4]])\n",
    "print(var1)\n",
    "print()\n",
    "print(\"Determinate: \",np.linalg.det(var1))"
   ]
  }
 ],
 "metadata": {
  "kernelspec": {
   "display_name": "Python 3",
   "language": "python",
   "name": "python3"
  },
  "language_info": {
   "codemirror_mode": {
    "name": "ipython",
    "version": 3
   },
   "file_extension": ".py",
   "mimetype": "text/x-python",
   "name": "python",
   "nbconvert_exporter": "python",
   "pygments_lexer": "ipython3",
   "version": "3.11.3"
  }
 },
 "nbformat": 4,
 "nbformat_minor": 2
}
